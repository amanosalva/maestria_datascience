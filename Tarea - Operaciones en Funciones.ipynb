{
 "cells": [
  {
   "cell_type": "markdown",
   "metadata": {},
   "source": [
    "# Universidad Ricardo Palma \n",
    "## Unidad de Postgrado \n",
    "### Maestría en Ciencia de los datos \n",
    "\n",
    "**Tarea: -**\n",
    "\n",
    "* Código: 202020627\n",
    "* Alumno: Manosalva López Anthony"
   ]
  },
  {
   "cell_type": "markdown",
   "metadata": {},
   "source": [
    "## Importación de librería Sympy"
   ]
  },
  {
   "cell_type": "code",
   "execution_count": 1,
   "metadata": {},
   "outputs": [],
   "source": [
    "import sympy as sym\n",
    "sym.init_printing(use_latex=True)"
   ]
  },
  {
   "cell_type": "markdown",
   "metadata": {},
   "source": [
    "## Definición de variables"
   ]
  },
  {
   "cell_type": "code",
   "execution_count": 2,
   "metadata": {},
   "outputs": [],
   "source": [
    "x = sym.Symbol('x')"
   ]
  },
  {
   "cell_type": "code",
   "execution_count": 3,
   "metadata": {},
   "outputs": [],
   "source": [
    "eq1_str = '2*x**2 + 4*x + 2'\n",
    "eq2_str = 'cos(x)'\n",
    "eq3_str = 'log(x)'\n",
    "eq4_str = 'exp(x)'\n",
    "eq_str = eq1_str"
   ]
  },
  {
   "cell_type": "markdown",
   "metadata": {},
   "source": [
    "### Función para Parseo de la ecuación"
   ]
  },
  {
   "cell_type": "code",
   "execution_count": 4,
   "metadata": {},
   "outputs": [],
   "source": [
    "def parseo_funcion(eq_str):\n",
    "    try:\n",
    "        x = sym.Symbol('x')\n",
    "        eq = sym.parse_expr(eq_str)\n",
    "        print(\"Parseo de función realizada con éxito. La función ingresada es la siguiente:\")\n",
    "        display(eq)        \n",
    "    except Exception as e:\n",
    "        print(\"{}: Error en la estructura de la ecuación.\".format(e))    \n",
    "        eq = None\n",
    "    finally:\n",
    "        return eq"
   ]
  },
  {
   "cell_type": "code",
   "execution_count": 5,
   "metadata": {},
   "outputs": [
    {
     "name": "stdout",
     "output_type": "stream",
     "text": [
      "Parseo de función realizada con éxito. La función ingresada es la siguiente:\n"
     ]
    },
    {
     "data": {
      "image/png": "[encoded data removed]",
      "text/latex": [
       "$\\displaystyle 2 x^{2} + 4 x + 2$"
      ],
      "text/plain": [
       "   2          \n",
       "2⋅x  + 4⋅x + 2"
      ]
     },
     "metadata": {},
     "output_type": "display_data"
    }
   ],
   "source": [
    "eq = parseo_funcion(eq1_str)"
   ]
  },
  {
   "cell_type": "markdown",
   "metadata": {},
   "source": [
    "### Función para la Evaluación de la función en un punto"
   ]
  },
  {
   "cell_type": "code",
   "execution_count": 6,
   "metadata": {},
   "outputs": [],
   "source": [
    "def evaluar_funcion(eq, valor):\n",
    "    print(\"\\nEvaluando el valor {} en la ecuación. Resultado: \".format(valor))\n",
    "    resultado = eq.subs(x, valor).evalf()\n",
    "    display(resultado)\n",
    "    return resultado"
   ]
  },
  {
   "cell_type": "code",
   "execution_count": 7,
   "metadata": {},
   "outputs": [
    {
     "name": "stdout",
     "output_type": "stream",
     "text": [
      "\n",
      "Evaluando el valor 4 en la ecuación. Resultado: \n"
     ]
    },
    {
     "data": {
      "image/png": "[encoded data removed]",
      "text/latex": [
       "$\\displaystyle 50.0$"
      ],
      "text/plain": [
       "50.0000000000000"
      ]
     },
     "metadata": {},
     "output_type": "display_data"
    },
    {
     "data": {
      "image/png": "[encoded data removed]",
      "text/latex": [
       "$\\displaystyle 50.0$"
      ],
      "text/plain": [
       "50.0000000000000"
      ]
     },
     "execution_count": 7,
     "metadata": {},
     "output_type": "execute_result"
    }
   ],
   "source": [
    "evaluar_funcion(eq, 4)"
   ]
  },
  {
   "cell_type": "markdown",
   "metadata": {},
   "source": [
    "### Función para Operaciones algebraicas: Factorizar, expandir, derivar"
   ]
  },
  {
   "cell_type": "code",
   "execution_count": 8,
   "metadata": {},
   "outputs": [],
   "source": [
    "def operaciones_algebraicas(eq, option):\n",
    "    \"\"\"\n",
    "    Parámetros:\n",
    "    - eq: Ecuación en formato sympy\n",
    "    - option: Operación a realizar. \n",
    "            * option = 'factor': Factorizar\n",
    "            * option = 'expand': Expandir\n",
    "            * option = 'diff': Derivar    \n",
    "    \"\"\"\n",
    "    \n",
    "    if option == 'factor':\n",
    "        # Factorizar\n",
    "        print(\"\\nFactorizando la ecuación: \")\n",
    "        eq_fact = sym.factor(eq) \n",
    "        display(eq_fact)    \n",
    "        eq_final = eq_fact\n",
    "    \n",
    "    elif option == 'expand': \n",
    "        # Expandir\n",
    "        print(\"\\nExpandiendo la ecuación: \")\n",
    "        eq_expa = sym.expand(eq)\n",
    "        display(eq_expa)\n",
    "        eq_final = eq_expa\n",
    "\n",
    "    elif option == 'diff':\n",
    "        # Derivada\n",
    "        print(\"\\nDerivando la ecuación: \")\n",
    "        eq_deri = sym.diff(eq)\n",
    "        display(eq_deri)\n",
    "        eq_final = eq_deri\n",
    "        \n",
    "    else: \n",
    "        print(\"\\nOpción inválida. No se aplicará alguna operación a la función\")\n",
    "        eq_final = eq\n",
    "    \n",
    "    return eq_final"
   ]
  },
  {
   "cell_type": "code",
   "execution_count": 9,
   "metadata": {},
   "outputs": [
    {
     "name": "stdout",
     "output_type": "stream",
     "text": [
      "\n",
      "Factorizando la ecuación: \n"
     ]
    },
    {
     "data": {
      "image/png": "[encoded data removed]",
      "text/latex": [
       "$\\displaystyle 2 \\left(x + 1\\right)^{2}$"
      ],
      "text/plain": [
       "         2\n",
       "2⋅(x + 1) "
      ]
     },
     "metadata": {},
     "output_type": "display_data"
    },
    {
     "name": "stdout",
     "output_type": "stream",
     "text": [
      "\n",
      "Expandiendo la ecuación: \n"
     ]
    },
    {
     "data": {
      "image/png": "[encoded data removed]",
      "text/latex": [
       "$\\displaystyle 2 x^{2} + 4 x + 2$"
      ],
      "text/plain": [
       "   2          \n",
       "2⋅x  + 4⋅x + 2"
      ]
     },
     "metadata": {},
     "output_type": "display_data"
    },
    {
     "name": "stdout",
     "output_type": "stream",
     "text": [
      "\n",
      "Derivando la ecuación: \n"
     ]
    },
    {
     "data": {
      "image/png": "[encoded data removed]",
      "text/latex": [
       "$\\displaystyle 4 x + 4$"
      ],
      "text/plain": [
       "4⋅x + 4"
      ]
     },
     "metadata": {},
     "output_type": "display_data"
    }
   ],
   "source": [
    "eq_fact = operaciones_algebraicas(eq, 'factor')\n",
    "eq_expa = operaciones_algebraicas(eq, 'expand')\n",
    "eq_diff = operaciones_algebraicas(eq, 'diff')"
   ]
  },
  {
   "cell_type": "markdown",
   "metadata": {},
   "source": [
    "### Graficar funciones"
   ]
  },
  {
   "cell_type": "markdown",
   "metadata": {},
   "source": [
    "Graficar funciones (Facilidad de manejar el dominio de la función (x que vaya de -5 a 5 o el y)"
   ]
  },
  {
   "cell_type": "code",
   "execution_count": 10,
   "metadata": {},
   "outputs": [],
   "source": [
    "plot = sym.plotting.plot"
   ]
  },
  {
   "cell_type": "code",
   "execution_count": 32,
   "metadata": {},
   "outputs": [],
   "source": [
    "def plot_function(eq, values_x=None, x_lim=None, y_lim=None):\n",
    "    \"\"\"\n",
    "    Parámetros:\n",
    "    - eq: Ecuación en formato sympy\n",
    "    - values_x: Tupla con el intervalo de valores de x\n",
    "    - x_lim: Tupla con los límites de los ejes x\n",
    "    - y_lim: Tupla con los límites de los ejes y\n",
    "    \"\"\"\n",
    "    \n",
    "    if not(values_x):\n",
    "        values_x = (-5, 5)\n",
    "    \n",
    "    if not(x_lim):\n",
    "        x_lim = values_x\n",
    "    \n",
    "    if not(y_lim):\n",
    "        y_lim = (-10, 10)    \n",
    "        \n",
    "    print(\"\\nEcuación a graficar: \")\n",
    "    display(eq)\n",
    "    \n",
    "    print(\"\\nIntervalo de valores de x: [{},{}]\".format(values_x[0], values_x[1]))\n",
    "    \n",
    "    print(\"\\nLímites del Eje x: [{},{}]\".format(x_lim[0], x_lim[1]))\n",
    "    print(\"Límites del Eje y: [{},{}]\".format(y_lim[0], y_lim[1]))\n",
    "    print(\"\\nGraficando:\\n\")\n",
    "    \n",
    "    \n",
    "    plot(eq, # Ecuación\n",
    "         (x, values_x[0], values_x[1]),  # Intervalo de valores\n",
    "         title = \"f(x) = {}\\n\".format(str(eq)), # Título\n",
    "         xlim = x_lim,\n",
    "         ylim = y_lim, \n",
    "         line_color='#278c27')\n",
    "    "
   ]
  },
  {
   "cell_type": "code",
   "execution_count": 12,
   "metadata": {},
   "outputs": [
    {
     "name": "stdout",
     "output_type": "stream",
     "text": [
      "\n",
      "Ecuación a graficar: \n"
     ]
    },
    {
     "data": {
      "image/png": "[encoded data removed]",
      "text/latex": [
       "$\\displaystyle 2 x^{2} + 4 x + 2$"
      ],
      "text/plain": [
       "   2          \n",
       "2⋅x  + 4⋅x + 2"
      ]
     },
     "metadata": {},
     "output_type": "display_data"
    },
    {
     "name": "stdout",
     "output_type": "stream",
     "text": [
      "\n",
      "Intervalo de valores de x: [-5,5]\n",
      "\n",
      "Límites del Eje x: [-5,5]\n",
      "Límites del Eje x: [-10,10]\n",
      "\n",
      "Graficando:\n",
      "\n"
     ]
    },
    {
     "data": {
      "image/png": "[encoded data removed]",
      "text/plain": [
       "<Figure size 432x288 with 1 Axes>"
      ]
     },
     "metadata": {
      "needs_background": "light"
     },
     "output_type": "display_data"
    }
   ],
   "source": [
    "plot_function(eq)"
   ]
  },
  {
   "cell_type": "code",
   "execution_count": 14,
   "metadata": {},
   "outputs": [
    {
     "name": "stdout",
     "output_type": "stream",
     "text": [
      "\n",
      "Ecuación a graficar: \n"
     ]
    },
    {
     "data": {
      "image/png": "[encoded data removed]",
      "text/latex": [
       "$\\displaystyle 2 x^{2} + 4 x + 2$"
      ],
      "text/plain": [
       "   2          \n",
       "2⋅x  + 4⋅x + 2"
      ]
     },
     "metadata": {},
     "output_type": "display_data"
    },
    {
     "name": "stdout",
     "output_type": "stream",
     "text": [
      "\n",
      "Intervalo de valores de x: [-4,2]\n",
      "\n",
      "Límites del Eje x: [-4,2]\n",
      "Límites del Eje x: [0,10]\n",
      "\n",
      "Graficando:\n",
      "\n"
     ]
    },
    {
     "data": {
      "image/png": "[encoded data removed]",
      "text/plain": [
       "<Figure size 432x288 with 1 Axes>"
      ]
     },
     "metadata": {
      "needs_background": "light"
     },
     "output_type": "display_data"
    }
   ],
   "source": [
    "plot_function(eq=eq, values_x=(-4,2), y_lim=(0,10) )"
   ]
  },
  {
   "cell_type": "markdown",
   "metadata": {},
   "source": [
    "### Encapsulando las funciones anteriores en una general:"
   ]
  },
  {
   "cell_type": "code",
   "execution_count": 46,
   "metadata": {},
   "outputs": [],
   "source": [
    "def equation_ops(equation, value, plot_props={}):\n",
    "    \"\"\"\n",
    "    Parámetros:\n",
    "    - equation: Ecuación en formato sympy\n",
    "    - value: Valor a evaluar en la función\n",
    "    - plot_props: Diccionario para la configuración de la gráfica en dos dimensiones. El diccionario debe tener como llaves lo siguiente:\n",
    "        * values_x: Tupla con el intervalo de valores de x\n",
    "        * x_lim: Tupla con los límites de los ejes x\n",
    "        * y_lim: Tupla con los límites de los ejes y\n",
    "    \"\"\"\n",
    "    \n",
    "    eq = parseo_funcion(equation)\n",
    "    evaluar_funcion(eq, value)\n",
    "\n",
    "    eq_fact = operaciones_algebraicas(eq, 'factor')\n",
    "    eq_expa = operaciones_algebraicas(eq, 'expand')\n",
    "    eq_diff = operaciones_algebraicas(eq, 'diff')\n",
    "    \n",
    "    # Propiedades de la gráfica\n",
    "    values_x = plot_props.get(\"values_x\")\n",
    "    x_lim = plot_props.get(\"x_lim\")\n",
    "    y_lim = plot_props.get(\"y_lim\")\n",
    "\n",
    "    plot_function(eq_fact, values_x, x_lim, y_lim)"
   ]
  },
  {
   "cell_type": "code",
   "execution_count": 47,
   "metadata": {},
   "outputs": [
    {
     "name": "stdout",
     "output_type": "stream",
     "text": [
      "Parseo de función realizada con éxito. La función ingresada es la siguiente:\n"
     ]
    },
    {
     "data": {
      "image/png": "[encoded data removed]",
      "text/latex": [
       "$\\displaystyle 2 x^{2} + 4 x + 2$"
      ],
      "text/plain": [
       "   2          \n",
       "2⋅x  + 4⋅x + 2"
      ]
     },
     "metadata": {},
     "output_type": "display_data"
    },
    {
     "name": "stdout",
     "output_type": "stream",
     "text": [
      "\n",
      "Evaluando el valor 90 en la ecuación. Resultado: \n"
     ]
    },
    {
     "data": {
      "image/png": "[encoded data removed]",
      "text/latex": [
       "$\\displaystyle 16562.0$"
      ],
      "text/plain": [
       "16562.0000000000"
      ]
     },
     "metadata": {},
     "output_type": "display_data"
    },
    {
     "name": "stdout",
     "output_type": "stream",
     "text": [
      "\n",
      "Factorizando la ecuación: \n"
     ]
    },
    {
     "data": {
      "image/png": "[encoded data removed]",
      "text/latex": [
       "$\\displaystyle 2 \\left(x + 1\\right)^{2}$"
      ],
      "text/plain": [
       "         2\n",
       "2⋅(x + 1) "
      ]
     },
     "metadata": {},
     "output_type": "display_data"
    },
    {
     "name": "stdout",
     "output_type": "stream",
     "text": [
      "\n",
      "Expandiendo la ecuación: \n"
     ]
    },
    {
     "data": {
      "image/png": "[encoded data removed]",
      "text/latex": [
       "$\\displaystyle 2 x^{2} + 4 x + 2$"
      ],
      "text/plain": [
       "   2          \n",
       "2⋅x  + 4⋅x + 2"
      ]
     },
     "metadata": {},
     "output_type": "display_data"
    },
    {
     "name": "stdout",
     "output_type": "stream",
     "text": [
      "\n",
      "Derivando la ecuación: \n"
     ]
    },
    {
     "data": {
      "image/png": "[encoded data removed]",
      "text/latex": [
       "$\\displaystyle 4 x + 4$"
      ],
      "text/plain": [
       "4⋅x + 4"
      ]
     },
     "metadata": {},
     "output_type": "display_data"
    },
    {
     "name": "stdout",
     "output_type": "stream",
     "text": [
      "\n",
      "Ecuación a graficar: \n"
     ]
    },
    {
     "data": {
      "image/png": "[encoded data removed]",
      "text/latex": [
       "$\\displaystyle 2 \\left(x + 1\\right)^{2}$"
      ],
      "text/plain": [
       "         2\n",
       "2⋅(x + 1) "
      ]
     },
     "metadata": {},
     "output_type": "display_data"
    },
    {
     "name": "stdout",
     "output_type": "stream",
     "text": [
      "\n",
      "Intervalo de valores de x: [-10,10]\n",
      "\n",
      "Límites del Eje x: [-2,2]\n",
      "Límites del Eje y: [0,10]\n",
      "\n",
      "Graficando:\n",
      "\n"
     ]
    },
    {
     "data": {
      "image/png": "[encoded data removed]",
      "text/plain": [
       "<Figure size 432x288 with 1 Axes>"
      ]
     },
     "metadata": {
      "needs_background": "light"
     },
     "output_type": "display_data"
    }
   ],
   "source": [
    "equation = \"2*x**2 + 4*x + 2\"\n",
    "value = 90\n",
    "plot_props =  {\n",
    "              'values_x': [-10, 10], \n",
    "              'x_lim': [-2,2], \n",
    "              'y_lim': [0,10]\n",
    "              }\n",
    "\n",
    "equation_ops(equation, value, plot_props)"
   ]
  },
  {
   "cell_type": "code",
   "execution_count": null,
   "metadata": {},
   "outputs": [],
   "source": []
  },
  {
   "cell_type": "code",
   "execution_count": null,
   "metadata": {},
   "outputs": [],
   "source": []
  },
  {
   "cell_type": "code",
   "execution_count": null,
   "metadata": {},
   "outputs": [],
   "source": [
    "#!pip install ipywidgets"
   ]
  },
  {
   "cell_type": "code",
   "execution_count": null,
   "metadata": {},
   "outputs": [],
   "source": []
  },
  {
   "cell_type": "code",
   "execution_count": null,
   "metadata": {},
   "outputs": [],
   "source": []
  },
  {
   "cell_type": "code",
   "execution_count": null,
   "metadata": {},
   "outputs": [],
   "source": []
  },
  {
   "cell_type": "code",
   "execution_count": null,
   "metadata": {},
   "outputs": [],
   "source": []
  }
 ],
 "metadata": {
  "kernelspec": {
   "display_name": "Python 3",
   "language": "python",
   "name": "python3"
  },
  "language_info": {
   "codemirror_mode": {
    "name": "ipython",
    "version": 3
   },
   "file_extension": ".py",
   "mimetype": "text/x-python",
   "name": "python",
   "nbconvert_exporter": "python",
   "pygments_lexer": "ipython3",
   "version": "3.7.8"
  }
 },
 "nbformat": 4,
 "nbformat_minor": 4
}
